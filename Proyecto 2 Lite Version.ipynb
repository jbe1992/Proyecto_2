{
 "cells": [
  {
   "cell_type": "code",
   "execution_count": 1,
   "metadata": {},
   "outputs": [],
   "source": [
    "import pandas as pd\n",
    "import numpy as np\n",
    "from matplotlib import pyplot, dates"
   ]
  },
  {
   "cell_type": "code",
   "execution_count": 2,
   "metadata": {},
   "outputs": [
    {
     "data": {
      "text/html": [
       "<div>\n",
       "<style scoped>\n",
       "    .dataframe tbody tr th:only-of-type {\n",
       "        vertical-align: middle;\n",
       "    }\n",
       "\n",
       "    .dataframe tbody tr th {\n",
       "        vertical-align: top;\n",
       "    }\n",
       "\n",
       "    .dataframe thead th {\n",
       "        text-align: right;\n",
       "    }\n",
       "</style>\n",
       "<table border=\"1\" class=\"dataframe\">\n",
       "  <thead>\n",
       "    <tr style=\"text-align: right;\">\n",
       "      <th></th>\n",
       "      <th>CODI</th>\n",
       "      <th>X_ETRS89</th>\n",
       "      <th>Y_ETRS89</th>\n",
       "      <th>LATITUD_WGS84</th>\n",
       "      <th>LONGITUD_WGS84</th>\n",
       "      <th>TIPUS_ELEMENT</th>\n",
       "      <th>ESPAI_VERD</th>\n",
       "      <th>ADRECA</th>\n",
       "      <th>ALCADA</th>\n",
       "      <th>CAT_ESPECIE_ID</th>\n",
       "      <th>...</th>\n",
       "      <th>CATEGORIA_ARBRAT</th>\n",
       "      <th>AMPLADA_VORERA</th>\n",
       "      <th>DATA_PLANTACIO</th>\n",
       "      <th>TIPUS_AIGUA</th>\n",
       "      <th>TIPUS_REG</th>\n",
       "      <th>TIPUS_SUPERFICIE</th>\n",
       "      <th>TIPUS_SUPORT</th>\n",
       "      <th>COBERTURA_ESCOCELL</th>\n",
       "      <th>MIDA_ESCOCELL</th>\n",
       "      <th>VORA_ESCOCELL</th>\n",
       "    </tr>\n",
       "  </thead>\n",
       "  <tbody>\n",
       "    <tr>\n",
       "      <th>0</th>\n",
       "      <td>0000022AR</td>\n",
       "      <td>430318.000</td>\n",
       "      <td>4587766.000</td>\n",
       "      <td>41.438443</td>\n",
       "      <td>2.165906</td>\n",
       "      <td>ARBRE VIARI</td>\n",
       "      <td>Can Ensenya, C.V. (Fabra i Puig 439, Villalba ...</td>\n",
       "      <td>Pg Fabra i Puig, 468</td>\n",
       "      <td>NaN</td>\n",
       "      <td>1104</td>\n",
       "      <td>...</td>\n",
       "      <td>NaN</td>\n",
       "      <td>NaN</td>\n",
       "      <td>NaN</td>\n",
       "      <td>NaN</td>\n",
       "      <td>MÀNEGA</td>\n",
       "      <td>PAVIMENT</td>\n",
       "      <td>ESCOCELL QUADRAT</td>\n",
       "      <td>SENSE COBERTURA</td>\n",
       "      <td>major que o igual a  100 cm</td>\n",
       "      <td>VORA METÀL·LICA</td>\n",
       "    </tr>\n",
       "    <tr>\n",
       "      <th>1</th>\n",
       "      <td>0000025AR</td>\n",
       "      <td>430270.562</td>\n",
       "      <td>4587637.998</td>\n",
       "      <td>41.437287</td>\n",
       "      <td>2.165353</td>\n",
       "      <td>ARBRE VIARI</td>\n",
       "      <td>Central de Nou Barris, Parc</td>\n",
       "      <td>Pg Fabra i Puig, 450</td>\n",
       "      <td>PETITA</td>\n",
       "      <td>152</td>\n",
       "      <td>...</td>\n",
       "      <td>PRIMERA</td>\n",
       "      <td>NaN</td>\n",
       "      <td>09/05/2017</td>\n",
       "      <td>NaN</td>\n",
       "      <td>GOTEIG</td>\n",
       "      <td>PAVIMENT</td>\n",
       "      <td>ESCOCELL TRIANGULAR</td>\n",
       "      <td>SENSE COBERTURA</td>\n",
       "      <td>major que o igual a  100 cm</td>\n",
       "      <td>ALTRES</td>\n",
       "    </tr>\n",
       "    <tr>\n",
       "      <th>2</th>\n",
       "      <td>0000028AR</td>\n",
       "      <td>430277.559</td>\n",
       "      <td>4587643.344</td>\n",
       "      <td>41.437335</td>\n",
       "      <td>2.165436</td>\n",
       "      <td>ARBRE VIARI</td>\n",
       "      <td>Central de Nou Barris, Parc</td>\n",
       "      <td>Pg Fabra i Puig, 450</td>\n",
       "      <td>PETITA</td>\n",
       "      <td>152</td>\n",
       "      <td>...</td>\n",
       "      <td>PRIMERA</td>\n",
       "      <td>NaN</td>\n",
       "      <td>09/05/2017</td>\n",
       "      <td>NaN</td>\n",
       "      <td>GOTEIG</td>\n",
       "      <td>PAVIMENT</td>\n",
       "      <td>ESCOCELL TRIANGULAR</td>\n",
       "      <td>SENSE COBERTURA</td>\n",
       "      <td>major que o igual a  100 cm</td>\n",
       "      <td>ALTRES</td>\n",
       "    </tr>\n",
       "    <tr>\n",
       "      <th>3</th>\n",
       "      <td>0000386AR</td>\n",
       "      <td>430035.239</td>\n",
       "      <td>4587693.836</td>\n",
       "      <td>41.437769</td>\n",
       "      <td>2.162530</td>\n",
       "      <td>ARBRE VIARI</td>\n",
       "      <td>Central de Nou Barris, Parc</td>\n",
       "      <td>C\\ Doctor Letamendi, 90</td>\n",
       "      <td>MITJANA</td>\n",
       "      <td>126</td>\n",
       "      <td>...</td>\n",
       "      <td>SEGONA</td>\n",
       "      <td>NaN</td>\n",
       "      <td>NaN</td>\n",
       "      <td>NaN</td>\n",
       "      <td>SENSE INFORMAR</td>\n",
       "      <td>PAVIMENT</td>\n",
       "      <td>ESCOCELL TRIANGULAR</td>\n",
       "      <td>SENSE COBERTURA</td>\n",
       "      <td>major que o igual a  100 cm</td>\n",
       "      <td>VORA METÀL·LICA</td>\n",
       "    </tr>\n",
       "    <tr>\n",
       "      <th>4</th>\n",
       "      <td>0000387AR</td>\n",
       "      <td>430032.831</td>\n",
       "      <td>4587696.005</td>\n",
       "      <td>41.437788</td>\n",
       "      <td>2.162501</td>\n",
       "      <td>ARBRE VIARI</td>\n",
       "      <td>Central de Nou Barris, Parc</td>\n",
       "      <td>C\\ Doctor Letamendi, 90</td>\n",
       "      <td>MITJANA</td>\n",
       "      <td>126</td>\n",
       "      <td>...</td>\n",
       "      <td>SEGONA</td>\n",
       "      <td>NaN</td>\n",
       "      <td>NaN</td>\n",
       "      <td>NaN</td>\n",
       "      <td>SENSE INFORMAR</td>\n",
       "      <td>PAVIMENT</td>\n",
       "      <td>ESCOCELL TRIANGULAR</td>\n",
       "      <td>SENSE COBERTURA</td>\n",
       "      <td>major que o igual a  100 cm</td>\n",
       "      <td>VORA METÀL·LICA</td>\n",
       "    </tr>\n",
       "  </tbody>\n",
       "</table>\n",
       "<p>5 rows × 23 columns</p>\n",
       "</div>"
      ],
      "text/plain": [
       "        CODI    X_ETRS89     Y_ETRS89  LATITUD_WGS84  LONGITUD_WGS84  \\\n",
       "0  0000022AR  430318.000  4587766.000      41.438443        2.165906   \n",
       "1  0000025AR  430270.562  4587637.998      41.437287        2.165353   \n",
       "2  0000028AR  430277.559  4587643.344      41.437335        2.165436   \n",
       "3  0000386AR  430035.239  4587693.836      41.437769        2.162530   \n",
       "4  0000387AR  430032.831  4587696.005      41.437788        2.162501   \n",
       "\n",
       "  TIPUS_ELEMENT                                         ESPAI_VERD  \\\n",
       "0   ARBRE VIARI  Can Ensenya, C.V. (Fabra i Puig 439, Villalba ...   \n",
       "1   ARBRE VIARI                        Central de Nou Barris, Parc   \n",
       "2   ARBRE VIARI                        Central de Nou Barris, Parc   \n",
       "3   ARBRE VIARI                        Central de Nou Barris, Parc   \n",
       "4   ARBRE VIARI                        Central de Nou Barris, Parc   \n",
       "\n",
       "                    ADRECA   ALCADA  CAT_ESPECIE_ID  ... CATEGORIA_ARBRAT  \\\n",
       "0     Pg Fabra i Puig, 468      NaN            1104  ...              NaN   \n",
       "1     Pg Fabra i Puig, 450   PETITA             152  ...          PRIMERA   \n",
       "2     Pg Fabra i Puig, 450   PETITA             152  ...          PRIMERA   \n",
       "3  C\\ Doctor Letamendi, 90  MITJANA             126  ...           SEGONA   \n",
       "4  C\\ Doctor Letamendi, 90  MITJANA             126  ...           SEGONA   \n",
       "\n",
       "  AMPLADA_VORERA DATA_PLANTACIO TIPUS_AIGUA       TIPUS_REG TIPUS_SUPERFICIE  \\\n",
       "0            NaN            NaN         NaN          MÀNEGA         PAVIMENT   \n",
       "1            NaN     09/05/2017         NaN          GOTEIG         PAVIMENT   \n",
       "2            NaN     09/05/2017         NaN          GOTEIG         PAVIMENT   \n",
       "3            NaN            NaN         NaN  SENSE INFORMAR         PAVIMENT   \n",
       "4            NaN            NaN         NaN  SENSE INFORMAR         PAVIMENT   \n",
       "\n",
       "          TIPUS_SUPORT COBERTURA_ESCOCELL                MIDA_ESCOCELL  \\\n",
       "0     ESCOCELL QUADRAT    SENSE COBERTURA  major que o igual a  100 cm   \n",
       "1  ESCOCELL TRIANGULAR    SENSE COBERTURA  major que o igual a  100 cm   \n",
       "2  ESCOCELL TRIANGULAR    SENSE COBERTURA  major que o igual a  100 cm   \n",
       "3  ESCOCELL TRIANGULAR    SENSE COBERTURA  major que o igual a  100 cm   \n",
       "4  ESCOCELL TRIANGULAR    SENSE COBERTURA  major que o igual a  100 cm   \n",
       "\n",
       "     VORA_ESCOCELL  \n",
       "0  VORA METÀL·LICA  \n",
       "1           ALTRES  \n",
       "2           ALTRES  \n",
       "3  VORA METÀL·LICA  \n",
       "4  VORA METÀL·LICA  \n",
       "\n",
       "[5 rows x 23 columns]"
      ]
     },
     "execution_count": 2,
     "metadata": {},
     "output_type": "execute_result"
    }
   ],
   "source": [
    "df = pd.read_csv('arbrat_viari.csv')\n",
    "df.head()"
   ]
  },
  {
   "cell_type": "code",
   "execution_count": 3,
   "metadata": {},
   "outputs": [
    {
     "data": {
      "text/plain": [
       "CODI                       0\n",
       "X_ETRS89                   0\n",
       "Y_ETRS89                   0\n",
       "LATITUD_WGS84              0\n",
       "LONGITUD_WGS84             0\n",
       "TIPUS_ELEMENT              0\n",
       "ESPAI_VERD            134446\n",
       "ADRECA                     0\n",
       "ALCADA                  5740\n",
       "CAT_ESPECIE_ID             0\n",
       "NOM_CIENTIFIC              0\n",
       "NOM_CASTELLA            3187\n",
       "NOM_CATALA              3398\n",
       "CATEGORIA_ARBRAT        3055\n",
       "AMPLADA_VORERA         25594\n",
       "DATA_PLANTACIO        134203\n",
       "TIPUS_AIGUA           153082\n",
       "TIPUS_REG                 10\n",
       "TIPUS_SUPERFICIE        5287\n",
       "TIPUS_SUPORT            5255\n",
       "COBERTURA_ESCOCELL     17207\n",
       "MIDA_ESCOCELL          19403\n",
       "VORA_ESCOCELL           8556\n",
       "dtype: int64"
      ]
     },
     "execution_count": 3,
     "metadata": {},
     "output_type": "execute_result"
    }
   ],
   "source": [
    "df.isnull().sum()"
   ]
  },
  {
   "cell_type": "code",
   "execution_count": 4,
   "metadata": {},
   "outputs": [
    {
     "data": {
      "text/plain": [
       "156511"
      ]
     },
     "execution_count": 4,
     "metadata": {},
     "output_type": "execute_result"
    }
   ],
   "source": [
    "df.shape[0] #We get the total number of trees"
   ]
  },
  {
   "cell_type": "markdown",
   "metadata": {},
   "source": [
    "# Importante"
   ]
  },
  {
   "cell_type": "code",
   "execution_count": 5,
   "metadata": {
    "scrolled": true
   },
   "outputs": [
    {
     "data": {
      "text/plain": [
       "Can Dragó, Parc Esportiu de                              728\n",
       "Taulat, Ramb.a (La Jonquera-Selva de Mar)                431\n",
       "Marina del Prat Vermell                                  304\n",
       "Diagonal Av. (Gràcia, Pg. - St. Joan, Pg.)               285\n",
       "Prim, Rbla. (Cristobal de Moura - Pere IV )              285\n",
       "Parc de la Vall d' Hebrón                                269\n",
       "Aragó - Guipúscoa                                        219\n",
       "Sant Joan, Pg. (Gran Via C.C. - Diagonal, Avda.)         214\n",
       "Diagonal, Av. (Francesc Macià Pl. - Cinc d'Oros, Pl.)    207\n",
       "Lluís Companys, Pg.                                      203\n",
       "Name: ESPAI_VERD, dtype: int64"
      ]
     },
     "execution_count": 5,
     "metadata": {},
     "output_type": "execute_result"
    }
   ],
   "source": [
    "df['ESPAI_VERD'].value_counts()[:10]"
   ]
  },
  {
   "cell_type": "code",
   "execution_count": 6,
   "metadata": {},
   "outputs": [
    {
     "data": {
      "text/plain": [
       "Platanus x hispanica       43979\n",
       "Celtis australis           19514\n",
       "Styphnolobium japonicum     8834\n",
       "Name: NOM_CIENTIFIC, dtype: int64"
      ]
     },
     "execution_count": 6,
     "metadata": {},
     "output_type": "execute_result"
    }
   ],
   "source": [
    "df['NOM_CIENTIFIC'].value_counts()[:3]"
   ]
  },
  {
   "cell_type": "code",
   "execution_count": 7,
   "metadata": {},
   "outputs": [
    {
     "name": "stdout",
     "output_type": "stream",
     "text": [
      "<class 'pandas.core.frame.DataFrame'>\n",
      "RangeIndex: 156511 entries, 0 to 156510\n",
      "Data columns (total 23 columns):\n",
      "CODI                  156511 non-null object\n",
      "X_ETRS89              156511 non-null float64\n",
      "Y_ETRS89              156511 non-null float64\n",
      "LATITUD_WGS84         156511 non-null float64\n",
      "LONGITUD_WGS84        156511 non-null float64\n",
      "TIPUS_ELEMENT         156511 non-null object\n",
      "ESPAI_VERD            22065 non-null object\n",
      "ADRECA                156511 non-null object\n",
      "ALCADA                150771 non-null object\n",
      "CAT_ESPECIE_ID        156511 non-null int64\n",
      "NOM_CIENTIFIC         156511 non-null object\n",
      "NOM_CASTELLA          153324 non-null object\n",
      "NOM_CATALA            153113 non-null object\n",
      "CATEGORIA_ARBRAT      153456 non-null object\n",
      "AMPLADA_VORERA        130917 non-null float64\n",
      "DATA_PLANTACIO        22308 non-null object\n",
      "TIPUS_AIGUA           3429 non-null object\n",
      "TIPUS_REG             156501 non-null object\n",
      "TIPUS_SUPERFICIE      151224 non-null object\n",
      "TIPUS_SUPORT          151256 non-null object\n",
      "COBERTURA_ESCOCELL    139304 non-null object\n",
      "MIDA_ESCOCELL         137108 non-null object\n",
      "VORA_ESCOCELL         147955 non-null object\n",
      "dtypes: float64(5), int64(1), object(17)\n",
      "memory usage: 27.5+ MB\n"
     ]
    }
   ],
   "source": [
    "df.info()"
   ]
  },
  {
   "cell_type": "markdown",
   "metadata": {},
   "source": [
    "# Importamos calidad del aire"
   ]
  },
  {
   "cell_type": "code",
   "execution_count": 62,
   "metadata": {},
   "outputs": [
    {
     "data": {
      "text/html": [
       "<div>\n",
       "<style scoped>\n",
       "    .dataframe tbody tr th:only-of-type {\n",
       "        vertical-align: middle;\n",
       "    }\n",
       "\n",
       "    .dataframe tbody tr th {\n",
       "        vertical-align: top;\n",
       "    }\n",
       "\n",
       "    .dataframe thead th {\n",
       "        text-align: right;\n",
       "    }\n",
       "</style>\n",
       "<table border=\"1\" class=\"dataframe\">\n",
       "  <thead>\n",
       "    <tr style=\"text-align: right;\">\n",
       "      <th></th>\n",
       "      <th>nom_cabina</th>\n",
       "      <th>qualitat_aire</th>\n",
       "      <th>codi_dtes</th>\n",
       "      <th>zqa</th>\n",
       "      <th>codi_eoi</th>\n",
       "      <th>longitud</th>\n",
       "      <th>latitud</th>\n",
       "      <th>hora_o3</th>\n",
       "      <th>qualitat_o3</th>\n",
       "      <th>valor_o3</th>\n",
       "      <th>hora_no2</th>\n",
       "      <th>qualitat_no2</th>\n",
       "      <th>valor_no2</th>\n",
       "      <th>hora_pm10</th>\n",
       "      <th>qualitat_pm10</th>\n",
       "      <th>valor_pm10</th>\n",
       "      <th>generat</th>\n",
       "      <th>dateTime</th>\n",
       "    </tr>\n",
       "  </thead>\n",
       "  <tbody>\n",
       "    <tr>\n",
       "      <th>0</th>\n",
       "      <td>Barcelona - Sants</td>\n",
       "      <td>Bona</td>\n",
       "      <td>ID</td>\n",
       "      <td>1</td>\n",
       "      <td>8019042</td>\n",
       "      <td>2.1331</td>\n",
       "      <td>41.3788</td>\n",
       "      <td>NaN</td>\n",
       "      <td>NaN</td>\n",
       "      <td>NaN</td>\n",
       "      <td>23h</td>\n",
       "      <td>Bona</td>\n",
       "      <td>86 µg/m³</td>\n",
       "      <td>NaN</td>\n",
       "      <td>NaN</td>\n",
       "      <td>NaN</td>\n",
       "      <td>01/01/2019 0:00</td>\n",
       "      <td>1546297502</td>\n",
       "    </tr>\n",
       "    <tr>\n",
       "      <th>1</th>\n",
       "      <td>Barcelona - Eixample</td>\n",
       "      <td>Regular</td>\n",
       "      <td>IH</td>\n",
       "      <td>1</td>\n",
       "      <td>8019043</td>\n",
       "      <td>2.1538</td>\n",
       "      <td>41.3853</td>\n",
       "      <td>23h</td>\n",
       "      <td>Bona</td>\n",
       "      <td>3 µg/m³</td>\n",
       "      <td>23h</td>\n",
       "      <td>Regular</td>\n",
       "      <td>112 µg/m³</td>\n",
       "      <td>23h</td>\n",
       "      <td>Bona</td>\n",
       "      <td>36 µg/m³</td>\n",
       "      <td>01/01/2019 0:00</td>\n",
       "      <td>1546297502</td>\n",
       "    </tr>\n",
       "    <tr>\n",
       "      <th>2</th>\n",
       "      <td>Barcelona - Gràcia</td>\n",
       "      <td>Regular</td>\n",
       "      <td>IJ</td>\n",
       "      <td>1</td>\n",
       "      <td>8019044</td>\n",
       "      <td>2.1534</td>\n",
       "      <td>41.3987</td>\n",
       "      <td>23h</td>\n",
       "      <td>Bona</td>\n",
       "      <td>3 µg/m³</td>\n",
       "      <td>23h</td>\n",
       "      <td>Regular</td>\n",
       "      <td>113 µg/m³</td>\n",
       "      <td>23h</td>\n",
       "      <td>Regular</td>\n",
       "      <td>39 µg/m³</td>\n",
       "      <td>01/01/2019 0:00</td>\n",
       "      <td>1546297502</td>\n",
       "    </tr>\n",
       "    <tr>\n",
       "      <th>3</th>\n",
       "      <td>Barcelona - Ciutadella</td>\n",
       "      <td>Bona</td>\n",
       "      <td>IL</td>\n",
       "      <td>1</td>\n",
       "      <td>8019050</td>\n",
       "      <td>2.1874</td>\n",
       "      <td>41.3864</td>\n",
       "      <td>23h</td>\n",
       "      <td>Bona</td>\n",
       "      <td>2 µg/m³</td>\n",
       "      <td>23h</td>\n",
       "      <td>Bona</td>\n",
       "      <td>74 µg/m³</td>\n",
       "      <td>NaN</td>\n",
       "      <td>NaN</td>\n",
       "      <td>NaN</td>\n",
       "      <td>01/01/2019 0:00</td>\n",
       "      <td>1546297502</td>\n",
       "    </tr>\n",
       "    <tr>\n",
       "      <th>4</th>\n",
       "      <td>Barcelona - Vall Hebron</td>\n",
       "      <td>Bona</td>\n",
       "      <td>IN</td>\n",
       "      <td>1</td>\n",
       "      <td>8019054</td>\n",
       "      <td>2.1480</td>\n",
       "      <td>41.4261</td>\n",
       "      <td>23h</td>\n",
       "      <td>Bona</td>\n",
       "      <td>10 µg/m³</td>\n",
       "      <td>23h</td>\n",
       "      <td>Bona</td>\n",
       "      <td>67 µg/m³</td>\n",
       "      <td>23h</td>\n",
       "      <td>Bona</td>\n",
       "      <td>12 µg/m³</td>\n",
       "      <td>01/01/2019 0:00</td>\n",
       "      <td>1546297502</td>\n",
       "    </tr>\n",
       "  </tbody>\n",
       "</table>\n",
       "</div>"
      ],
      "text/plain": [
       "                nom_cabina qualitat_aire codi_dtes  zqa  codi_eoi  longitud  \\\n",
       "0        Barcelona - Sants          Bona        ID    1   8019042    2.1331   \n",
       "1     Barcelona - Eixample       Regular        IH    1   8019043    2.1538   \n",
       "2       Barcelona - Gràcia       Regular        IJ    1   8019044    2.1534   \n",
       "3   Barcelona - Ciutadella          Bona        IL    1   8019050    2.1874   \n",
       "4  Barcelona - Vall Hebron          Bona        IN    1   8019054    2.1480   \n",
       "\n",
       "   latitud hora_o3 qualitat_o3  valor_o3 hora_no2 qualitat_no2  valor_no2  \\\n",
       "0  41.3788     NaN         NaN       NaN      23h         Bona   86 µg/m³   \n",
       "1  41.3853     23h        Bona   3 µg/m³      23h      Regular  112 µg/m³   \n",
       "2  41.3987     23h        Bona   3 µg/m³      23h      Regular  113 µg/m³   \n",
       "3  41.3864     23h        Bona   2 µg/m³      23h         Bona   74 µg/m³   \n",
       "4  41.4261     23h        Bona  10 µg/m³      23h         Bona   67 µg/m³   \n",
       "\n",
       "  hora_pm10 qualitat_pm10 valor_pm10          generat    dateTime  \n",
       "0       NaN           NaN        NaN  01/01/2019 0:00  1546297502  \n",
       "1       23h          Bona   36 µg/m³  01/01/2019 0:00  1546297502  \n",
       "2       23h       Regular   39 µg/m³  01/01/2019 0:00  1546297502  \n",
       "3       NaN           NaN        NaN  01/01/2019 0:00  1546297502  \n",
       "4       23h          Bona   12 µg/m³  01/01/2019 0:00  1546297502  "
      ]
     },
     "execution_count": 62,
     "metadata": {},
     "output_type": "execute_result"
    }
   ],
   "source": [
    "df_air = pd.read_csv('2019_01_Gener_qualitat_aire_BCN.csv')\n",
    "df_air.head()"
   ]
  },
  {
   "cell_type": "code",
   "execution_count": 63,
   "metadata": {
    "scrolled": true
   },
   "outputs": [
    {
     "name": "stdout",
     "output_type": "stream",
     "text": [
      "<class 'pandas.core.frame.DataFrame'>\n",
      "RangeIndex: 5904 entries, 0 to 5903\n",
      "Data columns (total 18 columns):\n",
      "nom_cabina       5904 non-null object\n",
      "qualitat_aire    5904 non-null object\n",
      "codi_dtes        5904 non-null object\n",
      "zqa              5904 non-null int64\n",
      "codi_eoi         5904 non-null int64\n",
      "longitud         5904 non-null float64\n",
      "latitud          5904 non-null float64\n",
      "hora_o3          4323 non-null object\n",
      "qualitat_o3      4323 non-null object\n",
      "valor_o3         4323 non-null object\n",
      "hora_no2         5774 non-null object\n",
      "qualitat_no2     5774 non-null object\n",
      "valor_no2        5774 non-null object\n",
      "hora_pm10        4387 non-null object\n",
      "qualitat_pm10    4387 non-null object\n",
      "valor_pm10       4387 non-null object\n",
      "generat          5904 non-null object\n",
      "dateTime         5904 non-null int64\n",
      "dtypes: float64(2), int64(3), object(13)\n",
      "memory usage: 830.3+ KB\n"
     ]
    }
   ],
   "source": [
    "df_air.info()"
   ]
  },
  {
   "cell_type": "code",
   "execution_count": 64,
   "metadata": {},
   "outputs": [
    {
     "data": {
      "text/plain": [
       "1581"
      ]
     },
     "execution_count": 64,
     "metadata": {},
     "output_type": "execute_result"
    }
   ],
   "source": [
    "df_air['valor_o3'].isnull().sum()"
   ]
  },
  {
   "cell_type": "code",
   "execution_count": 65,
   "metadata": {},
   "outputs": [],
   "source": [
    "df_air = df_air.dropna(subset=['valor_o3'])\n",
    "df_air = df_air[df_air.valor_o3 != '--']\n",
    "df_air = df_air.dropna(subset=['valor_no2'])\n",
    "df_air = df_air[df_air.valor_no2 != '--']\n",
    "df_air = df_air.dropna(subset=['valor_pm10'])\n",
    "df_air = df_air[df_air.valor_pm10 != '--']"
   ]
  },
  {
   "cell_type": "code",
   "execution_count": 66,
   "metadata": {},
   "outputs": [],
   "source": [
    "df_air['valor_o3'] = df_air['valor_o3'].apply(lambda x: x.replace(' µg/m³','')) #elimina medida en o3\n",
    "df_air['valor_no2'] = df_air['valor_no2'].apply(lambda x: x.replace(' µg/m³','')) #elimina medida en no2\n",
    "df_air['valor_pm10'] = df_air['valor_pm10'].apply(lambda x: x.replace(' µg/m³','')) #elimina medida en pm10 "
   ]
  },
  {
   "cell_type": "code",
   "execution_count": 67,
   "metadata": {},
   "outputs": [],
   "source": [
    "df_air['generat'] = df_air['generat'].astype('datetime64[ns]')\n",
    "df_air['valor_o3'] = df_air['valor_o3'].astype('int64')\n",
    "df_air['valor_no2'] = df_air['valor_no2'].astype('int64')\n",
    "df_air['valor_pm10'] = df_air['valor_pm10'].astype('int64')"
   ]
  },
  {
   "cell_type": "markdown",
   "metadata": {},
   "source": [
    "# Importante"
   ]
  },
  {
   "cell_type": "code",
   "execution_count": 68,
   "metadata": {},
   "outputs": [
    {
     "data": {
      "text/plain": [
       "nom_cabina\n",
       "Barcelona - Eixample        22.694268\n",
       "Barcelona - Gràcia          24.510367\n",
       "Barcelona - Observ Fabra    59.575419\n",
       "Barcelona - Palau Reial     33.462016\n",
       "Barcelona - Vall Hebron     38.723703\n",
       "Name: valor_o3, dtype: float64"
      ]
     },
     "execution_count": 68,
     "metadata": {},
     "output_type": "execute_result"
    }
   ],
   "source": [
    "df_air.groupby('nom_cabina')['valor_o3'].mean() #Ozone"
   ]
  },
  {
   "cell_type": "code",
   "execution_count": 69,
   "metadata": {},
   "outputs": [
    {
     "data": {
      "text/plain": [
       "nom_cabina\n",
       "Barcelona - Eixample        48.415605\n",
       "Barcelona - Gràcia          45.732057\n",
       "Barcelona - Observ Fabra    11.113128\n",
       "Barcelona - Palau Reial     27.815504\n",
       "Barcelona - Vall Hebron     28.342216\n",
       "Name: valor_no2, dtype: float64"
      ]
     },
     "execution_count": 69,
     "metadata": {},
     "output_type": "execute_result"
    }
   ],
   "source": [
    "df_air.groupby('nom_cabina')['valor_no2'].mean() #Nitrogen Dioxide"
   ]
  },
  {
   "cell_type": "code",
   "execution_count": 70,
   "metadata": {},
   "outputs": [
    {
     "data": {
      "text/plain": [
       "nom_cabina\n",
       "Barcelona - Eixample        21.055732\n",
       "Barcelona - Gràcia          20.953748\n",
       "Barcelona - Observ Fabra    10.075419\n",
       "Barcelona - Palau Reial     13.897674\n",
       "Barcelona - Vall Hebron     14.258065\n",
       "Name: valor_pm10, dtype: float64"
      ]
     },
     "execution_count": 70,
     "metadata": {},
     "output_type": "execute_result"
    }
   ],
   "source": [
    "df_air.groupby('nom_cabina')['valor_pm10'].mean() #Particulate Matter"
   ]
  },
  {
   "cell_type": "code",
   "execution_count": 80,
   "metadata": {
    "scrolled": true
   },
   "outputs": [
    {
     "data": {
      "text/html": [
       "<div>\n",
       "<style scoped>\n",
       "    .dataframe tbody tr th:only-of-type {\n",
       "        vertical-align: middle;\n",
       "    }\n",
       "\n",
       "    .dataframe tbody tr th {\n",
       "        vertical-align: top;\n",
       "    }\n",
       "\n",
       "    .dataframe thead th {\n",
       "        text-align: right;\n",
       "    }\n",
       "</style>\n",
       "<table border=\"1\" class=\"dataframe\">\n",
       "  <thead>\n",
       "    <tr style=\"text-align: right;\">\n",
       "      <th></th>\n",
       "      <th>Neighborhood</th>\n",
       "      <th>Average_wealth</th>\n",
       "      <th>Trees/Neighborhood</th>\n",
       "    </tr>\n",
       "  </thead>\n",
       "  <tbody>\n",
       "    <tr>\n",
       "      <th>0</th>\n",
       "      <td>Ciutat Vella</td>\n",
       "      <td>27.235,33</td>\n",
       "      <td>6.991,00</td>\n",
       "    </tr>\n",
       "    <tr>\n",
       "      <th>1</th>\n",
       "      <td>Eixample</td>\n",
       "      <td>44.849,70</td>\n",
       "      <td>22.678,00</td>\n",
       "    </tr>\n",
       "    <tr>\n",
       "      <th>2</th>\n",
       "      <td>Gracia</td>\n",
       "      <td>36.323,67</td>\n",
       "      <td>7.291,00</td>\n",
       "    </tr>\n",
       "    <tr>\n",
       "      <th>3</th>\n",
       "      <td>Horta - Guinardo</td>\n",
       "      <td>30.248,33</td>\n",
       "      <td>13.905,00</td>\n",
       "    </tr>\n",
       "    <tr>\n",
       "      <th>4</th>\n",
       "      <td>Les Corts</td>\n",
       "      <td>56.732,50</td>\n",
       "      <td>13.425,00</td>\n",
       "    </tr>\n",
       "    <tr>\n",
       "      <th>5</th>\n",
       "      <td>Nou Barris</td>\n",
       "      <td>24.057,50</td>\n",
       "      <td>15.577,00</td>\n",
       "    </tr>\n",
       "    <tr>\n",
       "      <th>6</th>\n",
       "      <td>Sant Andreu</td>\n",
       "      <td>30.399,00</td>\n",
       "      <td>16.332,00</td>\n",
       "    </tr>\n",
       "    <tr>\n",
       "      <th>7</th>\n",
       "      <td>Sant Marti</td>\n",
       "      <td>31.384,00</td>\n",
       "      <td>30.291,00</td>\n",
       "    </tr>\n",
       "    <tr>\n",
       "      <th>8</th>\n",
       "      <td>Sants - Montjuic</td>\n",
       "      <td>27.795,00</td>\n",
       "      <td>16.501,00</td>\n",
       "    </tr>\n",
       "    <tr>\n",
       "      <th>9</th>\n",
       "      <td>Sarria - Sant Gervasi</td>\n",
       "      <td>72.529,00</td>\n",
       "      <td>14.107,00</td>\n",
       "    </tr>\n",
       "    <tr>\n",
       "      <th>10</th>\n",
       "      <td>Total BCN</td>\n",
       "      <td>39.030,80</td>\n",
       "      <td>157.098,00</td>\n",
       "    </tr>\n",
       "  </tbody>\n",
       "</table>\n",
       "</div>"
      ],
      "text/plain": [
       "             Neighborhood Average_wealth Trees/Neighborhood\n",
       "0            Ciutat Vella      27.235,33           6.991,00\n",
       "1                Eixample      44.849,70          22.678,00\n",
       "2                  Gracia      36.323,67           7.291,00\n",
       "3        Horta - Guinardo      30.248,33          13.905,00\n",
       "4               Les Corts      56.732,50          13.425,00\n",
       "5              Nou Barris      24.057,50          15.577,00\n",
       "6             Sant Andreu      30.399,00          16.332,00\n",
       "7              Sant Marti      31.384,00          30.291,00\n",
       "8        Sants - Montjuic      27.795,00          16.501,00\n",
       "9   Sarria - Sant Gervasi      72.529,00          14.107,00\n",
       "10              Total BCN      39.030,80         157.098,00"
      ]
     },
     "execution_count": 80,
     "metadata": {},
     "output_type": "execute_result"
    }
   ],
   "source": [
    "df_money = pd.read_csv('Renta arboles por barrio.csv', sep = \";\")\n",
    "df_money.columns = ['Neighborhood','Average_wealth','Trees/Neighborhood']\n",
    "df_money.head(11)"
   ]
  },
  {
   "cell_type": "code",
   "execution_count": 83,
   "metadata": {},
   "outputs": [
    {
     "data": {
      "text/plain": [
       "99"
      ]
     },
     "execution_count": 83,
     "metadata": {},
     "output_type": "execute_result"
    }
   ],
   "source": [
    "df_air['valor_o3'].max()"
   ]
  },
  {
   "cell_type": "code",
   "execution_count": 87,
   "metadata": {
    "scrolled": false
   },
   "outputs": [
    {
     "data": {
      "text/html": [
       "<div>\n",
       "<style scoped>\n",
       "    .dataframe tbody tr th:only-of-type {\n",
       "        vertical-align: middle;\n",
       "    }\n",
       "\n",
       "    .dataframe tbody tr th {\n",
       "        vertical-align: top;\n",
       "    }\n",
       "\n",
       "    .dataframe thead th {\n",
       "        text-align: right;\n",
       "    }\n",
       "</style>\n",
       "<table border=\"1\" class=\"dataframe\">\n",
       "  <thead>\n",
       "    <tr style=\"text-align: right;\">\n",
       "      <th></th>\n",
       "      <th>nom_cabina</th>\n",
       "      <th>qualitat_aire</th>\n",
       "      <th>codi_dtes</th>\n",
       "      <th>zqa</th>\n",
       "      <th>codi_eoi</th>\n",
       "      <th>longitud</th>\n",
       "      <th>latitud</th>\n",
       "      <th>hora_o3</th>\n",
       "      <th>qualitat_o3</th>\n",
       "      <th>valor_o3</th>\n",
       "      <th>hora_no2</th>\n",
       "      <th>qualitat_no2</th>\n",
       "      <th>valor_no2</th>\n",
       "      <th>hora_pm10</th>\n",
       "      <th>qualitat_pm10</th>\n",
       "      <th>valor_pm10</th>\n",
       "      <th>generat</th>\n",
       "      <th>dateTime</th>\n",
       "    </tr>\n",
       "  </thead>\n",
       "  <tbody>\n",
       "    <tr>\n",
       "      <th>4599</th>\n",
       "      <td>Barcelona - Observ Fabra</td>\n",
       "      <td>Bona</td>\n",
       "      <td>OF</td>\n",
       "      <td>1</td>\n",
       "      <td>8019058</td>\n",
       "      <td>2.1239</td>\n",
       "      <td>41.4183</td>\n",
       "      <td>3h</td>\n",
       "      <td>Bona</td>\n",
       "      <td>99</td>\n",
       "      <td>3h</td>\n",
       "      <td>Bona</td>\n",
       "      <td>1</td>\n",
       "      <td>3h</td>\n",
       "      <td>Bona</td>\n",
       "      <td>6</td>\n",
       "      <td>2019-01-25 04:00:00</td>\n",
       "      <td>1548385502</td>\n",
       "    </tr>\n",
       "  </tbody>\n",
       "</table>\n",
       "</div>"
      ],
      "text/plain": [
       "                    nom_cabina qualitat_aire codi_dtes  zqa  codi_eoi  \\\n",
       "4599  Barcelona - Observ Fabra          Bona        OF    1   8019058   \n",
       "\n",
       "      longitud  latitud hora_o3 qualitat_o3  valor_o3 hora_no2 qualitat_no2  \\\n",
       "4599    2.1239  41.4183      3h        Bona        99       3h         Bona   \n",
       "\n",
       "      valor_no2 hora_pm10 qualitat_pm10  valor_pm10             generat  \\\n",
       "4599          1        3h          Bona           6 2019-01-25 04:00:00   \n",
       "\n",
       "        dateTime  \n",
       "4599  1548385502  "
      ]
     },
     "execution_count": 87,
     "metadata": {},
     "output_type": "execute_result"
    }
   ],
   "source": [
    "df_air[df_air['valor_o3'] == 99]"
   ]
  },
  {
   "cell_type": "code",
   "execution_count": 84,
   "metadata": {},
   "outputs": [
    {
     "data": {
      "text/plain": [
       "173"
      ]
     },
     "execution_count": 84,
     "metadata": {},
     "output_type": "execute_result"
    }
   ],
   "source": [
    "df_air['valor_no2'].max()"
   ]
  },
  {
   "cell_type": "code",
   "execution_count": 88,
   "metadata": {},
   "outputs": [
    {
     "data": {
      "text/html": [
       "<div>\n",
       "<style scoped>\n",
       "    .dataframe tbody tr th:only-of-type {\n",
       "        vertical-align: middle;\n",
       "    }\n",
       "\n",
       "    .dataframe tbody tr th {\n",
       "        vertical-align: top;\n",
       "    }\n",
       "\n",
       "    .dataframe thead th {\n",
       "        text-align: right;\n",
       "    }\n",
       "</style>\n",
       "<table border=\"1\" class=\"dataframe\">\n",
       "  <thead>\n",
       "    <tr style=\"text-align: right;\">\n",
       "      <th></th>\n",
       "      <th>nom_cabina</th>\n",
       "      <th>qualitat_aire</th>\n",
       "      <th>codi_dtes</th>\n",
       "      <th>zqa</th>\n",
       "      <th>codi_eoi</th>\n",
       "      <th>longitud</th>\n",
       "      <th>latitud</th>\n",
       "      <th>hora_o3</th>\n",
       "      <th>qualitat_o3</th>\n",
       "      <th>valor_o3</th>\n",
       "      <th>hora_no2</th>\n",
       "      <th>qualitat_no2</th>\n",
       "      <th>valor_no2</th>\n",
       "      <th>hora_pm10</th>\n",
       "      <th>qualitat_pm10</th>\n",
       "      <th>valor_pm10</th>\n",
       "      <th>generat</th>\n",
       "      <th>dateTime</th>\n",
       "    </tr>\n",
       "  </thead>\n",
       "  <tbody>\n",
       "    <tr>\n",
       "      <th>4649</th>\n",
       "      <td>Barcelona - Eixample</td>\n",
       "      <td>Regular</td>\n",
       "      <td>IH</td>\n",
       "      <td>1</td>\n",
       "      <td>8019043</td>\n",
       "      <td>2.1538</td>\n",
       "      <td>41.3853</td>\n",
       "      <td>10h</td>\n",
       "      <td>Bona</td>\n",
       "      <td>4</td>\n",
       "      <td>10h</td>\n",
       "      <td>Regular</td>\n",
       "      <td>173</td>\n",
       "      <td>10h</td>\n",
       "      <td>Bona</td>\n",
       "      <td>22</td>\n",
       "      <td>2019-01-25 11:00:00</td>\n",
       "      <td>1548410702</td>\n",
       "    </tr>\n",
       "  </tbody>\n",
       "</table>\n",
       "</div>"
      ],
      "text/plain": [
       "                nom_cabina qualitat_aire codi_dtes  zqa  codi_eoi  longitud  \\\n",
       "4649  Barcelona - Eixample       Regular        IH    1   8019043    2.1538   \n",
       "\n",
       "      latitud hora_o3 qualitat_o3  valor_o3 hora_no2 qualitat_no2  valor_no2  \\\n",
       "4649  41.3853     10h        Bona         4      10h      Regular        173   \n",
       "\n",
       "     hora_pm10 qualitat_pm10  valor_pm10             generat    dateTime  \n",
       "4649       10h          Bona          22 2019-01-25 11:00:00  1548410702  "
      ]
     },
     "execution_count": 88,
     "metadata": {},
     "output_type": "execute_result"
    }
   ],
   "source": [
    "df_air[df_air['valor_no2'] == 173]"
   ]
  },
  {
   "cell_type": "code",
   "execution_count": 85,
   "metadata": {},
   "outputs": [
    {
     "data": {
      "text/plain": [
       "51"
      ]
     },
     "execution_count": 85,
     "metadata": {},
     "output_type": "execute_result"
    }
   ],
   "source": [
    "df_air['valor_pm10'].max()"
   ]
  },
  {
   "cell_type": "code",
   "execution_count": 90,
   "metadata": {},
   "outputs": [
    {
     "data": {
      "text/html": [
       "<div>\n",
       "<style scoped>\n",
       "    .dataframe tbody tr th:only-of-type {\n",
       "        vertical-align: middle;\n",
       "    }\n",
       "\n",
       "    .dataframe tbody tr th {\n",
       "        vertical-align: top;\n",
       "    }\n",
       "\n",
       "    .dataframe thead th {\n",
       "        text-align: right;\n",
       "    }\n",
       "</style>\n",
       "<table border=\"1\" class=\"dataframe\">\n",
       "  <thead>\n",
       "    <tr style=\"text-align: right;\">\n",
       "      <th></th>\n",
       "      <th>nom_cabina</th>\n",
       "      <th>qualitat_aire</th>\n",
       "      <th>codi_dtes</th>\n",
       "      <th>zqa</th>\n",
       "      <th>codi_eoi</th>\n",
       "      <th>longitud</th>\n",
       "      <th>latitud</th>\n",
       "      <th>hora_o3</th>\n",
       "      <th>qualitat_o3</th>\n",
       "      <th>valor_o3</th>\n",
       "      <th>hora_no2</th>\n",
       "      <th>qualitat_no2</th>\n",
       "      <th>valor_no2</th>\n",
       "      <th>hora_pm10</th>\n",
       "      <th>qualitat_pm10</th>\n",
       "      <th>valor_pm10</th>\n",
       "      <th>generat</th>\n",
       "      <th>dateTime</th>\n",
       "    </tr>\n",
       "  </thead>\n",
       "  <tbody>\n",
       "    <tr>\n",
       "      <th>89</th>\n",
       "      <td>Barcelona - Eixample</td>\n",
       "      <td>Pobra</td>\n",
       "      <td>IH</td>\n",
       "      <td>1</td>\n",
       "      <td>8019043</td>\n",
       "      <td>2.1538</td>\n",
       "      <td>41.3853</td>\n",
       "      <td>10h</td>\n",
       "      <td>Bona</td>\n",
       "      <td>2</td>\n",
       "      <td>10h</td>\n",
       "      <td>Bona</td>\n",
       "      <td>79</td>\n",
       "      <td>11h</td>\n",
       "      <td>Pobra</td>\n",
       "      <td>51</td>\n",
       "      <td>2019-01-01 11:00:00</td>\n",
       "      <td>1546337101</td>\n",
       "    </tr>\n",
       "  </tbody>\n",
       "</table>\n",
       "</div>"
      ],
      "text/plain": [
       "              nom_cabina qualitat_aire codi_dtes  zqa  codi_eoi  longitud  \\\n",
       "89  Barcelona - Eixample         Pobra        IH    1   8019043    2.1538   \n",
       "\n",
       "    latitud hora_o3 qualitat_o3  valor_o3 hora_no2 qualitat_no2  valor_no2  \\\n",
       "89  41.3853     10h        Bona         2      10h         Bona         79   \n",
       "\n",
       "   hora_pm10 qualitat_pm10  valor_pm10             generat    dateTime  \n",
       "89       11h         Pobra          51 2019-01-01 11:00:00  1546337101  "
      ]
     },
     "execution_count": 90,
     "metadata": {},
     "output_type": "execute_result"
    }
   ],
   "source": [
    "df_air[df_air['valor_pm10'] == 51]"
   ]
  },
  {
   "cell_type": "code",
   "execution_count": null,
   "metadata": {},
   "outputs": [],
   "source": []
  }
 ],
 "metadata": {
  "kernelspec": {
   "display_name": "Python 3",
   "language": "python",
   "name": "python3"
  },
  "language_info": {
   "codemirror_mode": {
    "name": "ipython",
    "version": 3
   },
   "file_extension": ".py",
   "mimetype": "text/x-python",
   "name": "python",
   "nbconvert_exporter": "python",
   "pygments_lexer": "ipython3",
   "version": "3.7.2"
  }
 },
 "nbformat": 4,
 "nbformat_minor": 2
}
